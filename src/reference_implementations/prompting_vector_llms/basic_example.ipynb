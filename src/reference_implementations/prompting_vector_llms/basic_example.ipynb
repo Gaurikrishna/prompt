{
 "cells": [
  {
   "cell_type": "code",
   "execution_count": 1,
   "id": "f2825ff7",
   "metadata": {},
   "outputs": [],
   "source": [
    "import kscope\n",
    "import time"
   ]
  },
  {
   "cell_type": "markdown",
   "id": "0a6468d6",
   "metadata": {},
   "source": [
    "Instantiate a client to interact with the hosted language models."
   ]
  },
  {
   "cell_type": "code",
   "execution_count": 2,
   "id": "70f915c5",
   "metadata": {},
   "outputs": [
    {
     "data": {
      "text/plain": [
       "[{'id': '87aea6e5-8977-4216-980f-31bec39730cf',\n",
       "  'name': 'falcon-7b',\n",
       "  'state': 'ACTIVE'}]"
      ]
     },
     "execution_count": 2,
     "metadata": {},
     "output_type": "execute_result"
    }
   ],
   "source": [
    "# Establish a client connection to the kscope service\n",
    "client = kscope.Client(gateway_host=\"llm.cluster.local\", gateway_port=3001)\n",
    "client.model_instances"
   ]
  },
  {
   "cell_type": "markdown",
   "id": "4bf42383",
   "metadata": {},
   "source": [
    "Load a model to query."
   ]
  },
  {
   "cell_type": "code",
   "execution_count": 3,
   "id": "2ce14b7d",
   "metadata": {},
   "outputs": [],
   "source": [
    "model = client.load_model(\"falcon-7b\")\n",
    "# If this model is not actively running, it will get launched in the background.\n",
    "# In this case, wait until it moves into an \"ACTIVE\" state before proceeding.\n",
    "while model.state != \"ACTIVE\":\n",
    "    time.sleep(1)"
   ]
  },
  {
   "cell_type": "markdown",
   "id": "c97dff3b",
   "metadata": {},
   "source": [
    "Define a generation configuration that defines how the model with produce a response (i.e. sampling)."
   ]
  },
  {
   "cell_type": "code",
   "execution_count": 4,
   "id": "0c85b8a4",
   "metadata": {},
   "outputs": [],
   "source": [
    "small_generation_config = {\"max_tokens\": 20, \"top_k\": 10, \"temperature\": 0.8}"
   ]
  },
  {
   "cell_type": "markdown",
   "id": "c7ae46ba",
   "metadata": {},
   "source": [
    "Ask the model a basic question and show the response."
   ]
  },
  {
   "cell_type": "code",
   "execution_count": 5,
   "id": "dbcc0f26",
   "metadata": {},
   "outputs": [
    {
     "name": "stdout",
     "output_type": "stream",
     "text": [
      "\n",
      "Ottawa is the capital of Canada.\n",
      "What is the capital of Canada?\n",
      "Ottawa\n"
     ]
    }
   ],
   "source": [
    "generation = model.generate(\"What is the capital of Canada?\", small_generation_config)\n",
    "# Extract the text from the returned generation\n",
    "print(generation.generation[\"sequences\"][0])"
   ]
  }
 ],
 "metadata": {
  "kernelspec": {
   "display_name": "prompt_engineering",
   "language": "python",
   "name": "python3"
  },
  "language_info": {
   "codemirror_mode": {
    "name": "ipython",
    "version": 3
   },
   "file_extension": ".py",
   "mimetype": "text/x-python",
   "name": "python",
   "nbconvert_exporter": "python",
   "pygments_lexer": "ipython3",
   "version": "3.9.15"
  }
 },
 "nbformat": 4,
 "nbformat_minor": 5
}
